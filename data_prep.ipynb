{
 "cells": [
  {
   "cell_type": "code",
   "execution_count": 9,
   "id": "a32b5c69-b8b2-4807-b6c5-d5ed3d237b7e",
   "metadata": {},
   "outputs": [],
   "source": [
    "import pandas as pd\n",
    "from datasets import DatasetDict, Dataset"
   ]
  },
  {
   "cell_type": "code",
   "execution_count": 10,
   "id": "f4fbd278-3ace-49cb-9765-5dbed896d5ae",
   "metadata": {},
   "outputs": [],
   "source": [
    "# data source: https://www.kaggle.com/datasets/taruntiwarihp/phishing-site-urls/data\n",
    "df = pd.read_csv(\"data/phishing_site_urls.csv\")"
   ]
  },
  {
   "cell_type": "code",
   "execution_count": 13,
   "id": "9286163d-e70c-4471-8d02-fc437597b002",
   "metadata": {},
   "outputs": [],
   "source": [
    "df = df.dropna()\n",
    "\n",
    "df_safe = df[df['Label']==\"good\"]\n",
    "df_not_safe = df[df['Label']==\"bad\"]\n",
    "\n",
    "num_samples = 1500\n",
    "\n",
    "# Sample min_size rows from each class to ensure a 50-50 split\n",
    "df_safe_sample = df_safe.sample(num_samples, random_state=42)\n",
    "df_not_safe_sample = df_not_safe.sample(num_samples, random_state=42)\n",
    "\n",
    "# replace \"Email Type\" with Boolean flag \"isPhising\"\n",
    "df_safe_sample = df_safe_sample.assign(isPhishing=False)\n",
    "df_safe_sample = df_safe_sample.drop('Label',axis=1)\n",
    "df_not_safe_sample = df_not_safe_sample.assign(isPhishing=True)\n",
    "df_not_safe_sample = df_not_safe_sample.drop('Label',axis=1)\n",
    "\n",
    "# Concatenate the samples to create a new balanced dataset\n",
    "balanced_df = pd.concat([df_safe_sample, df_not_safe_sample])\n",
    "balanced_df.columns = ['text', 'labels']\n",
    "\n",
    "# convert labels column to int\n",
    "balanced_df['labels'] = balanced_df['labels'].astype(int)\n",
    "\n",
    "# Shuffle the balanced dataset\n",
    "balanced_df = balanced_df.sample(frac=1, random_state=42).reset_index(drop=True)\n",
    "\n",
    "train_frac = 0.7\n",
    "valid_frac = 0.15\n",
    "test_frac = 0.15\n",
    "\n",
    "# define train and validation size\n",
    "train_size = int(train_frac * len(balanced_df))\n",
    "valid_size = int(valid_frac * len(balanced_df))\n",
    "\n",
    "# create train, validation, and test datasets\n",
    "train_df = balanced_df[:train_size]\n",
    "valid_df = balanced_df[train_size:train_size + valid_size]\n",
    "test_df = balanced_df[train_size + valid_size:]\n",
    "\n",
    "# Convert the pandas DataFrames back to Hugging Face Datasets\n",
    "train_ds = Dataset.from_pandas(train_df)\n",
    "valid_ds = Dataset.from_pandas(valid_df)\n",
    "test_ds = Dataset.from_pandas(test_df)\n",
    "\n",
    "dataset_dict = DatasetDict({\n",
    "    'train': train_ds,\n",
    "    'validation': valid_ds,\n",
    "    'test': test_ds\n",
    "})"
   ]
  },
  {
   "cell_type": "code",
   "execution_count": 14,
   "id": "edb6b85e-9b43-44cc-a335-e415635d7c31",
   "metadata": {},
   "outputs": [
    {
     "data": {
      "text/plain": [
       "DatasetDict({\n",
       "    train: Dataset({\n",
       "        features: ['text', 'labels'],\n",
       "        num_rows: 2100\n",
       "    })\n",
       "    validation: Dataset({\n",
       "        features: ['text', 'labels'],\n",
       "        num_rows: 450\n",
       "    })\n",
       "    test: Dataset({\n",
       "        features: ['text', 'labels'],\n",
       "        num_rows: 450\n",
       "    })\n",
       "})"
      ]
     },
     "execution_count": 14,
     "metadata": {},
     "output_type": "execute_result"
    }
   ],
   "source": [
    "dataset_dict"
   ]
  },
  {
   "cell_type": "code",
   "execution_count": 20,
   "id": "1a6c7a48",
   "metadata": {},
   "outputs": [
    {
     "data": {
      "application/vnd.jupyter.widget-view+json": {
       "model_id": "771e55ea90894f47968506a63b3c4b05",
       "version_major": 2,
       "version_minor": 0
      },
      "text/plain": [
       "Uploading the dataset shards:   0%|          | 0/1 [00:00<?, ?it/s]"
      ]
     },
     "metadata": {},
     "output_type": "display_data"
    },
    {
     "data": {
      "application/vnd.jupyter.widget-view+json": {
       "model_id": "c436b5776455483b9bd1363d3d0c00df",
       "version_major": 2,
       "version_minor": 0
      },
      "text/plain": [
       "Creating parquet from Arrow format:   0%|          | 0/3 [00:00<?, ?ba/s]"
      ]
     },
     "metadata": {},
     "output_type": "display_data"
    },
    {
     "data": {
      "application/vnd.jupyter.widget-view+json": {
       "model_id": "3b3dc31639b44348b8e946f8fd0d3bc3",
       "version_major": 2,
       "version_minor": 0
      },
      "text/plain": [
       "Uploading the dataset shards:   0%|          | 0/1 [00:00<?, ?it/s]"
      ]
     },
     "metadata": {},
     "output_type": "display_data"
    },
    {
     "data": {
      "application/vnd.jupyter.widget-view+json": {
       "model_id": "ea306afac70f420196937ebecf12fa96",
       "version_major": 2,
       "version_minor": 0
      },
      "text/plain": [
       "Creating parquet from Arrow format:   0%|          | 0/1 [00:00<?, ?ba/s]"
      ]
     },
     "metadata": {},
     "output_type": "display_data"
    },
    {
     "data": {
      "application/vnd.jupyter.widget-view+json": {
       "model_id": "2e17374c83af4752b3507b14f7154804",
       "version_major": 2,
       "version_minor": 0
      },
      "text/plain": [
       "Uploading the dataset shards:   0%|          | 0/1 [00:00<?, ?it/s]"
      ]
     },
     "metadata": {},
     "output_type": "display_data"
    },
    {
     "data": {
      "application/vnd.jupyter.widget-view+json": {
       "model_id": "973508bb259e4bb5952ffc4ef4f8db52",
       "version_major": 2,
       "version_minor": 0
      },
      "text/plain": [
       "Creating parquet from Arrow format:   0%|          | 0/1 [00:00<?, ?ba/s]"
      ]
     },
     "metadata": {},
     "output_type": "display_data"
    },
    {
     "data": {
      "text/plain": [
       "CommitInfo(commit_url='https://huggingface.co/datasets/Arnav0805/phishing-site-classification/commit/8438abb9b383d3508f46ab06a3fdc6f84f3a17dc', commit_message='Upload dataset', commit_description='', oid='8438abb9b383d3508f46ab06a3fdc6f84f3a17dc', pr_url=None, repo_url=RepoUrl('https://huggingface.co/datasets/Arnav0805/phishing-site-classification', endpoint='https://huggingface.co', repo_type='dataset', repo_id='Arnav0805/phishing-site-classification'), pr_revision=None, pr_num=None)"
      ]
     },
     "execution_count": 20,
     "metadata": {},
     "output_type": "execute_result"
    },
    {
     "name": "stderr",
     "output_type": "stream",
     "text": [
      "Bad pipe message: %s [b'0.9,image/avif,image/webp,image/apng,*/*;q=0.8\\r\\nHost: localhost:46843\\r\\nUser-Agent: Mozilla/5.0 (Macintosh; Intel', b'ac OS X 10_15_7) AppleWebKit/53', b'36 (KHTML, like Gecko) Chrome/131.0.0.0 Safari/537.36\\r']\n",
      "Bad pipe message: %s [b'ccept-Enc', b'ing: gzip, deflate, br, zstd\\r\\nAccept-Language: en-GB,en;q=0.8\\r\\nCache-Control: max-age=0\\r\\nReferer: https://gith']\n",
      "Bad pipe message: %s [b'.com/\\r\\nX-Request-ID: 6bbb8ed961905defcc51a49ded33e255\\r\\nX-Real-IP: 10.240.0.69\\r\\nX-Forwarded-Port: 443\\r\\nX-Forwarded-Sc']\n",
      "Bad pipe message: %s [b'me: https\\r\\nX-Original-URI: /\\r\\nX-Scheme: https\\r\\nsec-gpc: 1\\r\\nsec-fetch-site: cross-site\\r\\nsec-fetch-mode: ', b'vigate\\r\\nsec-fetch-dest: document\\r\\nsec-ch-ua: \"Brave\";v=\"131\", \"Chromium\";v=\"131\", \"Not_A Brand\";v=\"24\"\\r\\nsec-c', b'ua-mobile: ?0\\r\\nsec-ch-ua-platform: \"macOS\"\\r\\npriority: u=0, i\\r\\nX-Original-Proto: https\\r\\nX-Forwarded-Prot', b' https\\r\\nX-Forwarded-Host: super-parakeet-pjr9799xvxgw2rpgr-46843.app.github.dev\\r\\nX-Forwarded-For: 10.240.0.69\\r']\n",
      "Bad pipe message: %s [b'roxy-Conn']\n"
     ]
    }
   ],
   "source": [
    "# push data to hub\n",
    "dataset_dict.push_to_hub(\"Arnav0805/phishing-site-classification\")"
   ]
  },
  {
   "cell_type": "code",
   "execution_count": null,
   "id": "e23ee7f4",
   "metadata": {},
   "outputs": [],
   "source": []
  }
 ],
 "metadata": {
  "kernelspec": {
   "display_name": "Python 3",
   "language": "python",
   "name": "python3"
  },
  "language_info": {
   "codemirror_mode": {
    "name": "ipython",
    "version": 3
   },
   "file_extension": ".py",
   "mimetype": "text/x-python",
   "name": "python",
   "nbconvert_exporter": "python",
   "pygments_lexer": "ipython3",
   "version": "3.12.1"
  }
 },
 "nbformat": 4,
 "nbformat_minor": 5
}
